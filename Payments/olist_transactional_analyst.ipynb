{
 "cells": [
  {
   "cell_type": "code",
   "execution_count": null,
   "id": "initial_id",
   "metadata": {
    "collapsed": true
   },
   "outputs": [],
   "source": [
    "#QUESTIONS:\n",
    "#Do revenue and seller density (=count) correspond with what we know about economical prosperity of 5 key regions in Brazil?\n",
    "#How does this trend over time?\n",
    "#When it comes to order processing, how do buckets look like?\n"
   ]
  },
  {
   "cell_type": "code",
   "source": [
    "import matplotlib.pyplot as plt\n",
    "import pandas as pd\n",
    "import numpy as np\n",
    "import seaborn as sns"
   ],
   "metadata": {
    "collapsed": false,
    "ExecuteTime": {
     "end_time": "2024-04-24T11:24:07.075487Z",
     "start_time": "2024-04-24T11:24:07.070901Z"
    }
   },
   "id": "f7ad00606d9165a",
   "outputs": [],
   "execution_count": 11
  },
  {
   "cell_type": "code",
   "source": [
    "#Let's think about metrics that can describe how good our sellers perform. When it comes to order processing it is time to approve (TTA) the order.\n",
    "#The dataset contains the timestamps for when the order was placed and when it was accepted by the seller. The time taken by the seller to accept the order is classified into these categories:\n",
    "# Less than 1 hour -> Instant\n",
    "# 1 hour to 5 hours -> Fast\n",
    "# 5 hours to 12 hours -> Average\n",
    "# 12 hours to 24 hours -> Slow\n",
    "# More than 24 hours -> Slowest"
   ],
   "metadata": {
    "collapsed": false,
    "ExecuteTime": {
     "end_time": "2024-04-22T12:29:10.988786Z",
     "start_time": "2024-04-22T12:29:10.985598Z"
    }
   },
   "id": "231d38c495e69e2",
   "outputs": [],
   "execution_count": 3
  },
  {
   "metadata": {
    "SqlCellData": {
     "data_source_name": "@www.googleapis.com/bigquery/v2",
     "variableName$1": "tta_calc"
    },
    "ExecuteTime": {
     "end_time": "2024-04-22T13:08:19.223690Z",
     "start_time": "2024-04-22T13:08:15.699168Z"
    }
   },
   "cell_type": "code",
   "source": [
    "%%sql\n",
    "#1612081119e8f23745698ad3367cc14b - anomaly order with more than 4500 hrs TTA\n",
    "WITH tta_calc AS (\n",
    "    SELECT\n",
    "        order_id,\n",
    "        DATE_DIFF(order_approved_at, order_purchase_timestamp, HOUR) AS TTA\n",
    "    FROM my-project-trial-388315.olist_kaggle.orders\n",
    "    WHERE order_id != '1612081119e8f23745698ad3367cc14b'\n",
    "),\n",
    "     tta_segments AS (\n",
    "         SELECT *\n",
    "         FROM tta_calc\n",
    "                  JOIN my-project-trial-388315.olist_kaggle.items AS items ON tta_calc.order_id = items.order_id\n",
    "                  JOIN my-project-trial-388315.olist_kaggle.olist_sellers os ON items.seller_id = os.seller_id\n",
    "     )\n",
    "SELECT\n",
    "    COUNT(CASE WHEN tta_segments.TTA < 1 THEN 1 END) AS Instant,\n",
    "    COUNT(CASE WHEN tta_segments.TTA BETWEEN 1 AND 5 THEN 1 END) AS Fast,\n",
    "    COUNT(CASE WHEN tta_segments.TTA BETWEEN 5 AND 12 THEN 1 END) AS Average,\n",
    "    COUNT(CASE WHEN tta_segments.TTA BETWEEN 12 AND 24 THEN 1 END) AS Slow,\n",
    "    COUNT(CASE WHEN tta_segments.TTA > 24 THEN 1 END) AS Slowest\n",
    "FROM tta_segments;"
   ],
   "id": "e6568ec2e68d89a1",
   "outputs": [
    {
     "data": {
      "text/plain": [
       "   Instant  Fast  Average   Slow  Slowest\n",
       "0    71246  6894     4622  13633    17477"
      ],
      "text/html": [
       "<div>\n",
       "<style scoped>\n",
       "    .dataframe tbody tr th:only-of-type {\n",
       "        vertical-align: middle;\n",
       "    }\n",
       "\n",
       "    .dataframe tbody tr th {\n",
       "        vertical-align: top;\n",
       "    }\n",
       "\n",
       "    .dataframe thead th {\n",
       "        text-align: right;\n",
       "    }\n",
       "</style>\n",
       "<table border=\"1\" class=\"dataframe\">\n",
       "  <thead>\n",
       "    <tr style=\"text-align: right;\">\n",
       "      <th></th>\n",
       "      <th>Instant</th>\n",
       "      <th>Fast</th>\n",
       "      <th>Average</th>\n",
       "      <th>Slow</th>\n",
       "      <th>Slowest</th>\n",
       "    </tr>\n",
       "  </thead>\n",
       "  <tbody>\n",
       "    <tr>\n",
       "      <th>0</th>\n",
       "      <td>71246</td>\n",
       "      <td>6894</td>\n",
       "      <td>4622</td>\n",
       "      <td>13633</td>\n",
       "      <td>17477</td>\n",
       "    </tr>\n",
       "  </tbody>\n",
       "</table>\n",
       "</div>"
      ]
     },
     "execution_count": 3,
     "metadata": {},
     "output_type": "execute_result"
    }
   ],
   "execution_count": 3
  },
  {
   "metadata": {
    "ExecuteTime": {
     "end_time": "2024-04-22T14:13:52.722353Z",
     "start_time": "2024-04-22T14:13:52.583720Z"
    }
   },
   "cell_type": "code",
   "source": [
    "df = pd.DataFrame(tta_calc)\n",
    "\n",
    "# Transpose the DataFrame and reset index\n",
    "df = df.T.reset_index()\n",
    "df.columns = ['TTA - Time to Approve', 'Sellers']\n",
    "\n",
    "# Calculate total count\n",
    "total_count = df['Sellers'].sum()\n",
    "\n",
    "# Plot\n",
    "plt.figure(figsize=(10, 6))\n",
    "ax = sns.barplot(data=df, x='Sellers', y='TTA - Time to Approve', palette='viridis')\n",
    "\n",
    "\n",
    "plt.xlabel('Sellers')\n",
    "plt.ylabel('Speed')\n",
    "plt.title('TTA - Time to Approve')\n",
    "plt.show()\n"
   ],
   "id": "9a71ba8885624113",
   "outputs": [
    {
     "data": {
      "text/plain": [
       "<Figure size 1000x600 with 1 Axes>"
      ],
      "image/png": "[encoded data removed]"
     },
     "metadata": {},
     "output_type": "display_data"
    }
   ],
   "execution_count": 16
  },
  {
   "metadata": {},
   "cell_type": "markdown",
   "source": [
    "In order to see how revenue is distributed across key Brazil regions we group 23 states into the following regions:\n",
    "North (poorest) = Acre ['AC'], Amapá ['AM'], Amazonas, Pará ['PA'], Rondônia, Roraima ['RO'] and Tocantins. \n",
    "Southeast (richest) = Espírito Santo ['ES'], Minas Gerais ['MS'],Rio de Janeiro ['RJ'] and São Paulo ['SP'], \n",
    "Central-West = Goiás ['GO'],Mato Grosso ['MG'] and Mato Grosso do Sul ['MT']; Distrito Federal ['DF'], \n",
    "Northeast Region = Maranhão ['MA']], Piauí ['PI'], Ceará ['CE'], Rio Grande do Norte ['RN'], Paraíba ['PB'],Pernambuco ['PE'], Alagoas, Sergipe ['SE'] and Bahia ['BA'] along with the Fernando de Noronha South (smallest) = Paraná ['PR'], Rio Grande do Sul ['RS'] and Santa Catarina ['SC']."
   ],
   "id": "9e0a7172a0554682"
  },
  {
   "metadata": {},
   "cell_type": "markdown",
   "source": "",
   "id": "ec1fe01625bd201"
  },
  {
   "metadata": {
    "SqlCellData": {
     "data_source_name": "@www.googleapis.com/bigquery/v2",
     "variableName$1": "df_sql3"
    },
    "ExecuteTime": {
     "end_time": "2024-04-22T14:20:21.283032Z",
     "start_time": "2024-04-22T14:20:14.359923Z"
    }
   },
   "cell_type": "code",
   "source": [
    "%%sql\n",
    "SELECT os.seller_id,\n",
    "       CASE\n",
    "           WHEN os.seller_state IN ('PI','MA','CE','RN','PB','PE','SE', 'BA') THEN 'NorthEast'\n",
    "           WHEN os.seller_state IN ('PR', 'RS', 'SC') THEN 'South'\n",
    "           WHEN os.seller_state IN ('GO','MG','MT','DF') THEN 'Central-West'\n",
    "           WHEN os.seller_state IN ('ES','MS','RJ','SP') THEN 'Southest'\n",
    "           WHEN os.seller_state IN ('AC','AM','PA','RO') THEN 'North'\n",
    "       END AS regions\n",
    "FROM my-project-trial-388315.olist_kaggle.items AS items\n",
    "         JOIN my-project-trial-388315.olist_kaggle.olist_sellers os\n",
    "         ON items.seller_id = os.seller_id"
   ],
   "id": "8d3b6af059a2c2d3",
   "outputs": [
    {
     "data": {
      "text/plain": [
       "                               seller_id   regions\n",
       "0       b64d51f0435e884e8de603b1655155ae  Southest\n",
       "1       b64d51f0435e884e8de603b1655155ae  Southest\n",
       "2       cf6f6bc4df3999b9c6440f124fb2f687  Southest\n",
       "3       ce616e1913288884e7742faac9d981db  Southest\n",
       "4       ce616e1913288884e7742faac9d981db  Southest\n",
       "...                                  ...       ...\n",
       "112645  3c03b12bab54d8b37d79d914bfdb1aa0  Southest\n",
       "112646  3c03b12bab54d8b37d79d914bfdb1aa0  Southest\n",
       "112647  3c03b12bab54d8b37d79d914bfdb1aa0  Southest\n",
       "112648  3c03b12bab54d8b37d79d914bfdb1aa0  Southest\n",
       "112649  3c03b12bab54d8b37d79d914bfdb1aa0  Southest\n",
       "\n",
       "[112650 rows x 2 columns]"
      ],
      "text/html": [
       "<div>\n",
       "<style scoped>\n",
       "    .dataframe tbody tr th:only-of-type {\n",
       "        vertical-align: middle;\n",
       "    }\n",
       "\n",
       "    .dataframe tbody tr th {\n",
       "        vertical-align: top;\n",
       "    }\n",
       "\n",
       "    .dataframe thead th {\n",
       "        text-align: right;\n",
       "    }\n",
       "</style>\n",
       "<table border=\"1\" class=\"dataframe\">\n",
       "  <thead>\n",
       "    <tr style=\"text-align: right;\">\n",
       "      <th></th>\n",
       "      <th>seller_id</th>\n",
       "      <th>regions</th>\n",
       "    </tr>\n",
       "  </thead>\n",
       "  <tbody>\n",
       "    <tr>\n",
       "      <th>0</th>\n",
       "      <td>b64d51f0435e884e8de603b1655155ae</td>\n",
       "      <td>Southest</td>\n",
       "    </tr>\n",
       "    <tr>\n",
       "      <th>1</th>\n",
       "      <td>b64d51f0435e884e8de603b1655155ae</td>\n",
       "      <td>Southest</td>\n",
       "    </tr>\n",
       "    <tr>\n",
       "      <th>2</th>\n",
       "      <td>cf6f6bc4df3999b9c6440f124fb2f687</td>\n",
       "      <td>Southest</td>\n",
       "    </tr>\n",
       "    <tr>\n",
       "      <th>3</th>\n",
       "      <td>ce616e1913288884e7742faac9d981db</td>\n",
       "      <td>Southest</td>\n",
       "    </tr>\n",
       "    <tr>\n",
       "      <th>4</th>\n",
       "      <td>ce616e1913288884e7742faac9d981db</td>\n",
       "      <td>Southest</td>\n",
       "    </tr>\n",
       "    <tr>\n",
       "      <th>...</th>\n",
       "      <td>...</td>\n",
       "      <td>...</td>\n",
       "    </tr>\n",
       "    <tr>\n",
       "      <th>112645</th>\n",
       "      <td>3c03b12bab54d8b37d79d914bfdb1aa0</td>\n",
       "      <td>Southest</td>\n",
       "    </tr>\n",
       "    <tr>\n",
       "      <th>112646</th>\n",
       "      <td>3c03b12bab54d8b37d79d914bfdb1aa0</td>\n",
       "      <td>Southest</td>\n",
       "    </tr>\n",
       "    <tr>\n",
       "      <th>112647</th>\n",
       "      <td>3c03b12bab54d8b37d79d914bfdb1aa0</td>\n",
       "      <td>Southest</td>\n",
       "    </tr>\n",
       "    <tr>\n",
       "      <th>112648</th>\n",
       "      <td>3c03b12bab54d8b37d79d914bfdb1aa0</td>\n",
       "      <td>Southest</td>\n",
       "    </tr>\n",
       "    <tr>\n",
       "      <th>112649</th>\n",
       "      <td>3c03b12bab54d8b37d79d914bfdb1aa0</td>\n",
       "      <td>Southest</td>\n",
       "    </tr>\n",
       "  </tbody>\n",
       "</table>\n",
       "<p>112650 rows × 2 columns</p>\n",
       "</div>"
      ]
     },
     "execution_count": 17,
     "metadata": {},
     "output_type": "execute_result"
    }
   ],
   "execution_count": 17
  },
  {
   "metadata": {
    "ExecuteTime": {
     "end_time": "2024-04-22T08:15:30.746192Z",
     "start_time": "2024-04-22T08:15:30.592749Z"
    }
   },
   "cell_type": "code",
   "source": "",
   "id": "453357acb8663d47",
   "outputs": [
    {
     "data": {
      "text/plain": [
       "<Axes: xlabel='regions', ylabel='count'>"
      ]
     },
     "execution_count": 40,
     "metadata": {},
     "output_type": "execute_result"
    },
    {
     "data": {
      "text/plain": [
       "<Figure size 640x480 with 1 Axes>"
      ],
      "image/png": "[encoded data removed]"
     },
     "metadata": {},
     "output_type": "display_data"
    }
   ],
   "execution_count": 40
  },
  {
   "metadata": {
    "SqlCellData": {
     "data_source_name": "@www.googleapis.com/bigquery/v2",
     "variableName$1": "df_sql4"
    },
    "ExecuteTime": {
     "end_time": "2024-04-22T14:23:39.998048Z",
     "start_time": "2024-04-22T14:23:39.117142Z"
    }
   },
   "cell_type": "code",
   "source": [
    "%%sql\n",
    "WITH reg_map as (SELECT os.seller_id,\n",
    "       items.price,\n",
    "       items.freight_value,\n",
    "       CASE\n",
    "           WHEN os.seller_state IN ('PI','MA','CE','RN','PB','PE','SE', 'BA') THEN 'NorthEast'\n",
    "           WHEN os.seller_state IN ('PR', 'RS', 'SC') THEN 'South'\n",
    "           WHEN os.seller_state IN ('GO','MG','MT','DF') THEN 'Central-West'\n",
    "           WHEN os.seller_state IN ('ES','MS','RJ','SP') THEN 'Southeast'\n",
    "           WHEN os.seller_state IN ('AC','AM','PA','RO') THEN 'North'\n",
    "       END AS regions\n",
    "FROM my-project-trial-388315.olist_kaggle.items AS items\n",
    "         JOIN my-project-trial-388315.olist_kaggle.olist_sellers os\n",
    "         ON items.seller_id = os.seller_id)\n",
    "SELECT ROUND(SUM (reg_map.price+reg_map.freight_value)) as revenue,\n",
    "       reg_map.regions\n",
    "FROM reg_map\n",
    "GROUP BY reg_map.regions"
   ],
   "id": "1acab54048f499fa",
   "outputs": [
    {
     "data": {
      "text/plain": [
       "    revenue       regions\n",
       "0  11243309      Southest\n",
       "1   1441070  Central-West\n",
       "2   2633676         South\n",
       "3      8427         North\n",
       "4    517070     NorthEast"
      ],
      "text/html": [
       "<div>\n",
       "<style scoped>\n",
       "    .dataframe tbody tr th:only-of-type {\n",
       "        vertical-align: middle;\n",
       "    }\n",
       "\n",
       "    .dataframe tbody tr th {\n",
       "        vertical-align: top;\n",
       "    }\n",
       "\n",
       "    .dataframe thead th {\n",
       "        text-align: right;\n",
       "    }\n",
       "</style>\n",
       "<table border=\"1\" class=\"dataframe\">\n",
       "  <thead>\n",
       "    <tr style=\"text-align: right;\">\n",
       "      <th></th>\n",
       "      <th>revenue</th>\n",
       "      <th>regions</th>\n",
       "    </tr>\n",
       "  </thead>\n",
       "  <tbody>\n",
       "    <tr>\n",
       "      <th>0</th>\n",
       "      <td>11243309</td>\n",
       "      <td>Southest</td>\n",
       "    </tr>\n",
       "    <tr>\n",
       "      <th>1</th>\n",
       "      <td>1441070</td>\n",
       "      <td>Central-West</td>\n",
       "    </tr>\n",
       "    <tr>\n",
       "      <th>2</th>\n",
       "      <td>2633676</td>\n",
       "      <td>South</td>\n",
       "    </tr>\n",
       "    <tr>\n",
       "      <th>3</th>\n",
       "      <td>8427</td>\n",
       "      <td>North</td>\n",
       "    </tr>\n",
       "    <tr>\n",
       "      <th>4</th>\n",
       "      <td>517070</td>\n",
       "      <td>NorthEast</td>\n",
       "    </tr>\n",
       "  </tbody>\n",
       "</table>\n",
       "</div>"
      ]
     },
     "execution_count": 19,
     "metadata": {},
     "output_type": "execute_result"
    }
   ],
   "execution_count": 19
  },
  {
   "metadata": {
    "ExecuteTime": {
     "end_time": "2024-04-22T14:41:02.079094Z",
     "start_time": "2024-04-22T14:41:01.968759Z"
    }
   },
   "cell_type": "code",
   "source": [
    "# Plot\n",
    "plt.figure(figsize=(10, 10))\n",
    "ax = sns.barplot(data=df_sql4, x='revenue', y='regions', palette='viridis')\n",
    "\n",
    "# Add percentages to the bars\n",
    "total_revenue = df_sql4['revenue'].sum()\n",
    "for p in ax.patches:\n",
    "    percentage = '{:.1f}%'.format(100 * p.get_width() / total_revenue)\n",
    "    x = p.get_width() + 100000  # adjust position for better visibility\n",
    "    y = p.get_y() + p.get_height() / 2\n",
    "    ax.annotate(percentage, (x, y), ha='left')\n",
    "\n",
    "plt.xlabel('Revenue')\n",
    "plt.ylabel('Region')\n",
    "plt.title('Revenue by Region with Percentages')\n",
    "plt.show()\n",
    "\n"
   ],
   "id": "7dd0c3fffa7acc49",
   "outputs": [
    {
     "data": {
      "text/plain": [
       "<Figure size 1000x1000 with 1 Axes>"
      ],
      "image/png": "[encoded data removed]"
     },
     "metadata": {},
     "output_type": "display_data"
    }
   ],
   "execution_count": 25
  },
  {
   "metadata": {
    "SqlCellData": {
     "data_source_name": "@www.googleapis.com/bigquery/v2",
     "variableName$1": "df_sql5"
    },
    "ExecuteTime": {
     "end_time": "2024-04-22T14:58:51.171755Z",
     "start_time": "2024-04-22T14:58:50.270711Z"
    }
   },
   "cell_type": "code",
   "source": [
    "%%sql\n",
    "WITH reg_map as (SELECT os.seller_id,\n",
    "                        items.price,\n",
    "                        items.freight_value,\n",
    "                        DATE_TRUNC(orders.order_purchase_timestamp,MONTH) as purchase_date,\n",
    "                        CASE\n",
    "                            WHEN os.seller_state IN ('PI','MA','CE','RN','PB','PE','SE', 'BA') THEN 'NorthEast'\n",
    "                            WHEN os.seller_state IN ('PR', 'RS', 'SC') THEN 'South'\n",
    "                            WHEN os.seller_state IN ('GO','MG','MT','DF') THEN 'Central-West'\n",
    "                            WHEN os.seller_state IN ('ES','MS','RJ','SP') THEN 'Southest'\n",
    "                            WHEN os.seller_state IN ('AC','AM','PA','RO') THEN 'North'\n",
    "                            END AS regions\n",
    "                 FROM my-project-trial-388315.olist_kaggle.items AS items\n",
    "                          JOIN my-project-trial-388315.olist_kaggle.olist_sellers os\n",
    "                               ON items.seller_id = os.seller_id\n",
    "                          JOIN my-project-trial-388315.olist_kaggle.orders orders\n",
    "                               ON orders.order_id = items.order_id )\n",
    "SELECT ROUND(SUM (reg_map.price+reg_map.freight_value)) as revenue,\n",
    "       reg_map.regions,\n",
    "       reg_map.purchase_date\n",
    "FROM reg_map\n",
    "GROUP BY reg_map.regions, reg_map.purchase_date"
   ],
   "id": "41adafb90c79d346",
   "outputs": [
    {
     "data": {
      "text/plain": [
       "     revenue    regions               purchase_date\n",
       "0     716453   Southest  2018-07-01 00:00:00.000000\n",
       "1     712410   Southest  2018-08-01 00:00:00.000000\n",
       "2     415965   Southest  2017-05-01 00:00:00.000000\n",
       "3     718647   Southest  2018-06-01 00:00:00.000000\n",
       "4     532352   Southest  2017-10-01 00:00:00.000000\n",
       "..       ...        ...                         ...\n",
       "96       822      North  2017-08-01 00:00:00.000000\n",
       "97       103      North  2018-03-01 00:00:00.000000\n",
       "98       267  NorthEast  2016-10-01 00:00:00.000000\n",
       "99       355      North  2017-04-01 00:00:00.000000\n",
       "100       20      South  2016-12-01 00:00:00.000000\n",
       "\n",
       "[101 rows x 3 columns]"
      ],
      "text/html": [
       "<div>\n",
       "<style scoped>\n",
       "    .dataframe tbody tr th:only-of-type {\n",
       "        vertical-align: middle;\n",
       "    }\n",
       "\n",
       "    .dataframe tbody tr th {\n",
       "        vertical-align: top;\n",
       "    }\n",
       "\n",
       "    .dataframe thead th {\n",
       "        text-align: right;\n",
       "    }\n",
       "</style>\n",
       "<table border=\"1\" class=\"dataframe\">\n",
       "  <thead>\n",
       "    <tr style=\"text-align: right;\">\n",
       "      <th></th>\n",
       "      <th>revenue</th>\n",
       "      <th>regions</th>\n",
       "      <th>purchase_date</th>\n",
       "    </tr>\n",
       "  </thead>\n",
       "  <tbody>\n",
       "    <tr>\n",
       "      <th>0</th>\n",
       "      <td>716453</td>\n",
       "      <td>Southest</td>\n",
       "      <td>2018-07-01 00:00:00.000000</td>\n",
       "    </tr>\n",
       "    <tr>\n",
       "      <th>1</th>\n",
       "      <td>712410</td>\n",
       "      <td>Southest</td>\n",
       "      <td>2018-08-01 00:00:00.000000</td>\n",
       "    </tr>\n",
       "    <tr>\n",
       "      <th>2</th>\n",
       "      <td>415965</td>\n",
       "      <td>Southest</td>\n",
       "      <td>2017-05-01 00:00:00.000000</td>\n",
       "    </tr>\n",
       "    <tr>\n",
       "      <th>3</th>\n",
       "      <td>718647</td>\n",
       "      <td>Southest</td>\n",
       "      <td>2018-06-01 00:00:00.000000</td>\n",
       "    </tr>\n",
       "    <tr>\n",
       "      <th>4</th>\n",
       "      <td>532352</td>\n",
       "      <td>Southest</td>\n",
       "      <td>2017-10-01 00:00:00.000000</td>\n",
       "    </tr>\n",
       "    <tr>\n",
       "      <th>...</th>\n",
       "      <td>...</td>\n",
       "      <td>...</td>\n",
       "      <td>...</td>\n",
       "    </tr>\n",
       "    <tr>\n",
       "      <th>96</th>\n",
       "      <td>822</td>\n",
       "      <td>North</td>\n",
       "      <td>2017-08-01 00:00:00.000000</td>\n",
       "    </tr>\n",
       "    <tr>\n",
       "      <th>97</th>\n",
       "      <td>103</td>\n",
       "      <td>North</td>\n",
       "      <td>2018-03-01 00:00:00.000000</td>\n",
       "    </tr>\n",
       "    <tr>\n",
       "      <th>98</th>\n",
       "      <td>267</td>\n",
       "      <td>NorthEast</td>\n",
       "      <td>2016-10-01 00:00:00.000000</td>\n",
       "    </tr>\n",
       "    <tr>\n",
       "      <th>99</th>\n",
       "      <td>355</td>\n",
       "      <td>North</td>\n",
       "      <td>2017-04-01 00:00:00.000000</td>\n",
       "    </tr>\n",
       "    <tr>\n",
       "      <th>100</th>\n",
       "      <td>20</td>\n",
       "      <td>South</td>\n",
       "      <td>2016-12-01 00:00:00.000000</td>\n",
       "    </tr>\n",
       "  </tbody>\n",
       "</table>\n",
       "<p>101 rows × 3 columns</p>\n",
       "</div>"
      ]
     },
     "execution_count": 26,
     "metadata": {},
     "output_type": "execute_result"
    }
   ],
   "execution_count": 26
  },
  {
   "metadata": {
    "ExecuteTime": {
     "end_time": "2024-04-22T15:02:06.028625Z",
     "start_time": "2024-04-22T15:02:05.804008Z"
    }
   },
   "cell_type": "code",
   "source": [
    "# Convert 'purchase_date' to datetime\n",
    "df_sql5['purchase_date'] = pd.to_datetime(df_sql5['purchase_date'])\n",
    "\n",
    "# Set 'purchase_date' as index\n",
    "df_sql5.set_index('purchase_date', inplace=True)\n",
    "\n",
    "# Plot\n",
    "plt.figure(figsize=(10, 6))\n",
    "sns.lineplot(data=df_sql5, x=df_sql5.index, y='revenue', hue='regions', palette='viridis')\n",
    "\n",
    "plt.xlabel('Date')\n",
    "plt.ylabel('Revenue')\n",
    "plt.title('Revenue per Region Over Time')\n",
    "plt.legend(title='Region', bbox_to_anchor=(1, 1), loc='upper left')\n",
    "plt.show()\n"
   ],
   "id": "87a0bc572aedf989",
   "outputs": [
    {
     "name": "stderr",
     "output_type": "stream",
     "text": [
      "/opt/miniconda3/envs/viz_pack/lib/python3.11/site-packages/seaborn/_oldcore.py:1119: FutureWarning: use_inf_as_na option is deprecated and will be removed in a future version. Convert inf values to NaN before operating instead.\n",
      "  with pd.option_context('mode.use_inf_as_na', True):\n",
      "/opt/miniconda3/envs/viz_pack/lib/python3.11/site-packages/seaborn/_oldcore.py:1119: FutureWarning: use_inf_as_na option is deprecated and will be removed in a future version. Convert inf values to NaN before operating instead.\n",
      "  with pd.option_context('mode.use_inf_as_na', True):\n",
      "/opt/miniconda3/envs/viz_pack/lib/python3.11/site-packages/seaborn/_oldcore.py:1075: FutureWarning: When grouping with a length-1 list-like, you will need to pass a length-1 tuple to get_group in a future version of pandas. Pass `(name,)` instead of `name` to silence this warning.\n",
      "  data_subset = grouped_data.get_group(pd_key)\n",
      "/opt/miniconda3/envs/viz_pack/lib/python3.11/site-packages/seaborn/_oldcore.py:1075: FutureWarning: When grouping with a length-1 list-like, you will need to pass a length-1 tuple to get_group in a future version of pandas. Pass `(name,)` instead of `name` to silence this warning.\n",
      "  data_subset = grouped_data.get_group(pd_key)\n",
      "/opt/miniconda3/envs/viz_pack/lib/python3.11/site-packages/seaborn/_oldcore.py:1075: FutureWarning: When grouping with a length-1 list-like, you will need to pass a length-1 tuple to get_group in a future version of pandas. Pass `(name,)` instead of `name` to silence this warning.\n",
      "  data_subset = grouped_data.get_group(pd_key)\n",
      "/opt/miniconda3/envs/viz_pack/lib/python3.11/site-packages/seaborn/_oldcore.py:1075: FutureWarning: When grouping with a length-1 list-like, you will need to pass a length-1 tuple to get_group in a future version of pandas. Pass `(name,)` instead of `name` to silence this warning.\n",
      "  data_subset = grouped_data.get_group(pd_key)\n",
      "/opt/miniconda3/envs/viz_pack/lib/python3.11/site-packages/seaborn/_oldcore.py:1075: FutureWarning: When grouping with a length-1 list-like, you will need to pass a length-1 tuple to get_group in a future version of pandas. Pass `(name,)` instead of `name` to silence this warning.\n",
      "  data_subset = grouped_data.get_group(pd_key)\n"
     ]
    },
    {
     "data": {
      "text/plain": [
       "<Figure size 1000x600 with 1 Axes>"
      ],
      "image/png": "[encoded data removed]"
     },
     "metadata": {},
     "output_type": "display_data"
    }
   ],
   "execution_count": 27
  },
  {
   "metadata": {
    "SqlCellData": {
     "data_source_name": "@www.googleapis.com/bigquery/v2",
     "variableName$1": "df_sql6"
    },
    "ExecuteTime": {
     "end_time": "2024-04-23T19:59:21.711463Z",
     "start_time": "2024-04-23T19:59:17.301387Z"
    }
   },
   "cell_type": "code",
   "source": [
    "%%sql\n",
    "#% of customers who place orders with different sellers (more than 1 unique seller)\n",
    "SELECT cust_id, COUNT(DISTINCT sel_id) AS different_sellers_count\n",
    "FROM\n",
    "(SELECT orders.customer_id AS cust_id,\n",
    "       items.seller_id AS sel_id,\n",
    "       items.order_id AS ord_id,\n",
    "       orders.order_purchase_timestamp,\n",
    "       COUNT(DISTINCT items.seller_id) AS seller_count\n",
    "FROM my-project-trial-388315.olist_kaggle.items AS items\n",
    "         JOIN my-project-trial-388315.olist_kaggle.orders AS orders\n",
    "              ON items.order_id = orders.order_id\n",
    "         JOIN my-project-trial-388315.olist_kaggle.customers AS customers\n",
    "              ON orders.customer_id = customers.customer_id\n",
    "GROUP BY orders.customer_id, items.order_id, orders.order_purchase_timestamp, items.seller_id) AS order_summary\n",
    " GROUP BY cust_id\n",
    " HAVING COUNT(*) > 1;"
   ],
   "id": "fbbd0eb5af445b03",
   "outputs": [
    {
     "data": {
      "text/plain": [
       "                               cust_id  different_sellers_count\n",
       "0     ddedd0a8c9f0acc02d3bc02070d117f7                        2\n",
       "1     7b962215806a3c1e6bdb02a9489ec486                        2\n",
       "2     730769d8a5103f14d741ad1706e1c352                        2\n",
       "3     5f50465da00b7fed5dd1239f4ecf6e2c                        2\n",
       "4     8dab637615e9eae6d33ef5e48644d6d3                        2\n",
       "...                                ...                      ...\n",
       "1273  2f1a3baba1b833c18c5da7b721b360b2                        2\n",
       "1274  85df45704acdf1ff318576830a282d19                        2\n",
       "1275  ba9f01f047473c3db12adbf0b68cdaa9                        2\n",
       "1276  2ce72245ffebb0287ae4193d34128753                        2\n",
       "1277  7f51c513004ef3f35e834c142f286778                        2\n",
       "\n",
       "[1278 rows x 2 columns]"
      ],
      "text/html": [
       "<div>\n",
       "<style scoped>\n",
       "    .dataframe tbody tr th:only-of-type {\n",
       "        vertical-align: middle;\n",
       "    }\n",
       "\n",
       "    .dataframe tbody tr th {\n",
       "        vertical-align: top;\n",
       "    }\n",
       "\n",
       "    .dataframe thead th {\n",
       "        text-align: right;\n",
       "    }\n",
       "</style>\n",
       "<table border=\"1\" class=\"dataframe\">\n",
       "  <thead>\n",
       "    <tr style=\"text-align: right;\">\n",
       "      <th></th>\n",
       "      <th>cust_id</th>\n",
       "      <th>different_sellers_count</th>\n",
       "    </tr>\n",
       "  </thead>\n",
       "  <tbody>\n",
       "    <tr>\n",
       "      <th>0</th>\n",
       "      <td>ddedd0a8c9f0acc02d3bc02070d117f7</td>\n",
       "      <td>2</td>\n",
       "    </tr>\n",
       "    <tr>\n",
       "      <th>1</th>\n",
       "      <td>7b962215806a3c1e6bdb02a9489ec486</td>\n",
       "      <td>2</td>\n",
       "    </tr>\n",
       "    <tr>\n",
       "      <th>2</th>\n",
       "      <td>730769d8a5103f14d741ad1706e1c352</td>\n",
       "      <td>2</td>\n",
       "    </tr>\n",
       "    <tr>\n",
       "      <th>3</th>\n",
       "      <td>5f50465da00b7fed5dd1239f4ecf6e2c</td>\n",
       "      <td>2</td>\n",
       "    </tr>\n",
       "    <tr>\n",
       "      <th>4</th>\n",
       "      <td>8dab637615e9eae6d33ef5e48644d6d3</td>\n",
       "      <td>2</td>\n",
       "    </tr>\n",
       "    <tr>\n",
       "      <th>...</th>\n",
       "      <td>...</td>\n",
       "      <td>...</td>\n",
       "    </tr>\n",
       "    <tr>\n",
       "      <th>1273</th>\n",
       "      <td>2f1a3baba1b833c18c5da7b721b360b2</td>\n",
       "      <td>2</td>\n",
       "    </tr>\n",
       "    <tr>\n",
       "      <th>1274</th>\n",
       "      <td>85df45704acdf1ff318576830a282d19</td>\n",
       "      <td>2</td>\n",
       "    </tr>\n",
       "    <tr>\n",
       "      <th>1275</th>\n",
       "      <td>ba9f01f047473c3db12adbf0b68cdaa9</td>\n",
       "      <td>2</td>\n",
       "    </tr>\n",
       "    <tr>\n",
       "      <th>1276</th>\n",
       "      <td>2ce72245ffebb0287ae4193d34128753</td>\n",
       "      <td>2</td>\n",
       "    </tr>\n",
       "    <tr>\n",
       "      <th>1277</th>\n",
       "      <td>7f51c513004ef3f35e834c142f286778</td>\n",
       "      <td>2</td>\n",
       "    </tr>\n",
       "  </tbody>\n",
       "</table>\n",
       "<p>1278 rows × 2 columns</p>\n",
       "</div>"
      ]
     },
     "execution_count": 1,
     "metadata": {},
     "output_type": "execute_result"
    }
   ],
   "execution_count": 1
  },
  {
   "metadata": {},
   "cell_type": "code",
   "outputs": [],
   "execution_count": null,
   "source": "#% of customers who place orders with different sellers (more than 1 unique seller)",
   "id": "6c84611741674cd4"
  },
  {
   "metadata": {
    "SqlCellData": {
     "data_source_name": "@www.googleapis.com/bigquery/v2",
     "variableName$1": "df_sql7"
    },
    "ExecuteTime": {
     "end_time": "2024-04-23T20:05:13.495340Z",
     "start_time": "2024-04-23T20:05:07.111691Z"
    }
   },
   "cell_type": "code",
   "source": [
    "%%sql\n",
    "SELECT DISTINCT (orders.customer_id)\n",
    "FROM my-project-trial-388315.olist_kaggle.orders"
   ],
   "id": "d1195135a857f87b",
   "outputs": [
    {
     "data": {
      "text/plain": [
       "                            customer_id\n",
       "0      725e9c75605414b21fd8c8d5a1c2f1d6\n",
       "1      4ee64f4bfc542546f422da0aeb462853\n",
       "2      438449d4af8980d107bf04571413a8e7\n",
       "3      964a6df3d9bdf60fe3e7b8bb69ed893a\n",
       "4      7d61b9f4f216052ba664f22e9c504ef1\n",
       "...                                 ...\n",
       "99436  9ad3cb19919815536d4ae2c46d69279c\n",
       "99437  cef54c3ad569af033c4ecdaa69c9e140\n",
       "99438  921e7175793c295e163d9bd7c8b1c1ee\n",
       "99439  8feae4bd81cd90e377f43588b900d3c2\n",
       "99440  c0a4ca941f313300f1694f4ab73b3651\n",
       "\n",
       "[99441 rows x 1 columns]"
      ],
      "text/html": [
       "<div>\n",
       "<style scoped>\n",
       "    .dataframe tbody tr th:only-of-type {\n",
       "        vertical-align: middle;\n",
       "    }\n",
       "\n",
       "    .dataframe tbody tr th {\n",
       "        vertical-align: top;\n",
       "    }\n",
       "\n",
       "    .dataframe thead th {\n",
       "        text-align: right;\n",
       "    }\n",
       "</style>\n",
       "<table border=\"1\" class=\"dataframe\">\n",
       "  <thead>\n",
       "    <tr style=\"text-align: right;\">\n",
       "      <th></th>\n",
       "      <th>customer_id</th>\n",
       "    </tr>\n",
       "  </thead>\n",
       "  <tbody>\n",
       "    <tr>\n",
       "      <th>0</th>\n",
       "      <td>725e9c75605414b21fd8c8d5a1c2f1d6</td>\n",
       "    </tr>\n",
       "    <tr>\n",
       "      <th>1</th>\n",
       "      <td>4ee64f4bfc542546f422da0aeb462853</td>\n",
       "    </tr>\n",
       "    <tr>\n",
       "      <th>2</th>\n",
       "      <td>438449d4af8980d107bf04571413a8e7</td>\n",
       "    </tr>\n",
       "    <tr>\n",
       "      <th>3</th>\n",
       "      <td>964a6df3d9bdf60fe3e7b8bb69ed893a</td>\n",
       "    </tr>\n",
       "    <tr>\n",
       "      <th>4</th>\n",
       "      <td>7d61b9f4f216052ba664f22e9c504ef1</td>\n",
       "    </tr>\n",
       "    <tr>\n",
       "      <th>...</th>\n",
       "      <td>...</td>\n",
       "    </tr>\n",
       "    <tr>\n",
       "      <th>99436</th>\n",
       "      <td>9ad3cb19919815536d4ae2c46d69279c</td>\n",
       "    </tr>\n",
       "    <tr>\n",
       "      <th>99437</th>\n",
       "      <td>cef54c3ad569af033c4ecdaa69c9e140</td>\n",
       "    </tr>\n",
       "    <tr>\n",
       "      <th>99438</th>\n",
       "      <td>921e7175793c295e163d9bd7c8b1c1ee</td>\n",
       "    </tr>\n",
       "    <tr>\n",
       "      <th>99439</th>\n",
       "      <td>8feae4bd81cd90e377f43588b900d3c2</td>\n",
       "    </tr>\n",
       "    <tr>\n",
       "      <th>99440</th>\n",
       "      <td>c0a4ca941f313300f1694f4ab73b3651</td>\n",
       "    </tr>\n",
       "  </tbody>\n",
       "</table>\n",
       "<p>99441 rows × 1 columns</p>\n",
       "</div>"
      ]
     },
     "execution_count": 2,
     "metadata": {},
     "output_type": "execute_result"
    }
   ],
   "execution_count": 2
  },
  {
   "metadata": {
    "ExecuteTime": {
     "end_time": "2024-04-24T11:32:48.039622Z",
     "start_time": "2024-04-24T11:32:48.031807Z"
    }
   },
   "cell_type": "code",
   "source": [
    "unique_customer_count = df_sql7.shape[0]\n",
    "non_monogamous_customers = len(df_sql6)\n",
    "non_monogamous_transactions_perc=(non_monogamous_customers/unique_customer_count)*100\n",
    "print(non_monogamous_transactions_perc)"
   ],
   "id": "ad6e3b658ba33e68",
   "outputs": [
    {
     "name": "stdout",
     "output_type": "stream",
     "text": [
      "1.2851841795637613\n"
     ]
    }
   ],
   "execution_count": 14
  },
  {
   "metadata": {
    "SqlCellData": {
     "data_source_name": "@www.googleapis.com/bigquery/v2",
     "variableName$1": "df_sql9"
    },
    "ExecuteTime": {
     "end_time": "2024-04-24T12:03:08.518830Z",
     "start_time": "2024-04-24T12:03:07.294730Z"
    }
   },
   "cell_type": "code",
   "source": [
    "%%sql\n",
    "SELECT DISTINCT (sellers.seller_id)\n",
    "FROM my-project-trial-388315.olist_kaggle.olist_sellers as sellers"
   ],
   "id": "436f6af88c90a27c",
   "outputs": [
    {
     "data": {
      "text/plain": [
       "                             seller_id\n",
       "0     4be2e7f96b4fd749d52dff41f80e39dd\n",
       "1     327b89b872c14d1c0be7235ef4871685\n",
       "2     4221a7df464f1fe2955934e30ff3a5a1\n",
       "3     651530bf5c607240ccdd89a30c9c9712\n",
       "4     2b402d5dc42554061f8ea98d1916f148\n",
       "...                                ...\n",
       "3090  de0c78824586e9a5f5f04fd84e25df39\n",
       "3091  a1bea7061f61f6fdd9a85a6325ba1033\n",
       "3092  f626e15b7314c267e4429010866f70e9\n",
       "3093  6a3139c7bf09ece22a4713d956acbe5e\n",
       "3094  01fd077212124329bac32490e8ef80d9\n",
       "\n",
       "[3095 rows x 1 columns]"
      ],
      "text/html": [
       "<div>\n",
       "<style scoped>\n",
       "    .dataframe tbody tr th:only-of-type {\n",
       "        vertical-align: middle;\n",
       "    }\n",
       "\n",
       "    .dataframe tbody tr th {\n",
       "        vertical-align: top;\n",
       "    }\n",
       "\n",
       "    .dataframe thead th {\n",
       "        text-align: right;\n",
       "    }\n",
       "</style>\n",
       "<table border=\"1\" class=\"dataframe\">\n",
       "  <thead>\n",
       "    <tr style=\"text-align: right;\">\n",
       "      <th></th>\n",
       "      <th>seller_id</th>\n",
       "    </tr>\n",
       "  </thead>\n",
       "  <tbody>\n",
       "    <tr>\n",
       "      <th>0</th>\n",
       "      <td>4be2e7f96b4fd749d52dff41f80e39dd</td>\n",
       "    </tr>\n",
       "    <tr>\n",
       "      <th>1</th>\n",
       "      <td>327b89b872c14d1c0be7235ef4871685</td>\n",
       "    </tr>\n",
       "    <tr>\n",
       "      <th>2</th>\n",
       "      <td>4221a7df464f1fe2955934e30ff3a5a1</td>\n",
       "    </tr>\n",
       "    <tr>\n",
       "      <th>3</th>\n",
       "      <td>651530bf5c607240ccdd89a30c9c9712</td>\n",
       "    </tr>\n",
       "    <tr>\n",
       "      <th>4</th>\n",
       "      <td>2b402d5dc42554061f8ea98d1916f148</td>\n",
       "    </tr>\n",
       "    <tr>\n",
       "      <th>...</th>\n",
       "      <td>...</td>\n",
       "    </tr>\n",
       "    <tr>\n",
       "      <th>3090</th>\n",
       "      <td>de0c78824586e9a5f5f04fd84e25df39</td>\n",
       "    </tr>\n",
       "    <tr>\n",
       "      <th>3091</th>\n",
       "      <td>a1bea7061f61f6fdd9a85a6325ba1033</td>\n",
       "    </tr>\n",
       "    <tr>\n",
       "      <th>3092</th>\n",
       "      <td>f626e15b7314c267e4429010866f70e9</td>\n",
       "    </tr>\n",
       "    <tr>\n",
       "      <th>3093</th>\n",
       "      <td>6a3139c7bf09ece22a4713d956acbe5e</td>\n",
       "    </tr>\n",
       "    <tr>\n",
       "      <th>3094</th>\n",
       "      <td>01fd077212124329bac32490e8ef80d9</td>\n",
       "    </tr>\n",
       "  </tbody>\n",
       "</table>\n",
       "<p>3095 rows × 1 columns</p>\n",
       "</div>"
      ]
     },
     "execution_count": 18,
     "metadata": {},
     "output_type": "execute_result"
    }
   ],
   "execution_count": 18
  },
  {
   "metadata": {
    "ExecuteTime": {
     "end_time": "2024-04-24T13:41:28.691755Z",
     "start_time": "2024-04-24T13:41:28.685772Z"
    }
   },
   "cell_type": "code",
   "source": [
    "cust_to_seller_ratio = df_sql7.shape[0]/df_sql9.shape[0]\n",
    "print(cust_to_seller_ratio)"
   ],
   "id": "f979d705f3631efe",
   "outputs": [
    {
     "name": "stdout",
     "output_type": "stream",
     "text": [
      "32.12956381260097\n"
     ]
    }
   ],
   "execution_count": 23
  },
  {
   "metadata": {
    "SqlCellData": {
     "data_source_name": "@www.googleapis.com/bigquery/v2",
     "variableName$1": "df_sql8"
    },
    "ExecuteTime": {
     "end_time": "2024-04-24T11:21:39.428912Z",
     "start_time": "2024-04-24T11:21:37.884230Z"
    }
   },
   "cell_type": "code",
   "source": [
    "%%sql\n",
    "SELECT cust_id,\n",
    "       COUNT(DISTINCT sel_id) AS different_sellers_count,\n",
    "       TIMESTAMP_TRUNC(order_purchase_timestamp, MONTH ) AS purchase_date\n",
    "FROM\n",
    "(SELECT orders.customer_id AS cust_id,\n",
    "       items.seller_id AS sel_id,\n",
    "       items.order_id AS ord_id,\n",
    "       orders.order_purchase_timestamp,\n",
    "       COUNT(DISTINCT items.seller_id) AS seller_count\n",
    "FROM my-project-trial-388315.olist_kaggle.items AS items\n",
    "         JOIN my-project-trial-388315.olist_kaggle.orders AS orders\n",
    "              ON items.order_id = orders.order_id\n",
    "         JOIN my-project-trial-388315.olist_kaggle.customers AS customers\n",
    "              ON orders.customer_id = customers.customer_id\n",
    "GROUP BY orders.customer_id, items.order_id, orders.order_purchase_timestamp, items.seller_id) AS order_summary\n",
    " GROUP BY cust_id, purchase_date\n",
    " HAVING COUNT(*) > 1"
   ],
   "id": "8c5468105bf52cb4",
   "outputs": [
    {
     "data": {
      "text/plain": [
       "                               cust_id  different_sellers_count  \\\n",
       "0     6e9fcf097dd6735e0b0462052b83e936                        2   \n",
       "1     3563b65918969aa4770325856ec0c256                        2   \n",
       "2     0b6c2ee27dbe0bcbffd424f2ddedd222                        2   \n",
       "3     72a366446dd3abfc90c598896714d85c                        2   \n",
       "4     0f4f8f1c93fa4e87b000dde5ce03ffdd                        2   \n",
       "...                                ...                      ...   \n",
       "1273  1173a4bd917d4e1a64917dd9851ccea9                        2   \n",
       "1274  66c004ff369bf0244761de86fd2c687c                        2   \n",
       "1275  99591752fa0fde84c1d12934abf94ca1                        2   \n",
       "1276  b7ae8ccf4db05cfdefe709e22ccce819                        2   \n",
       "1277  11ec4bc0610184925acab62c1b0cd593                        2   \n",
       "\n",
       "                   purchase_date  \n",
       "0     2017-08-01 00:00:00.000000  \n",
       "1     2018-04-01 00:00:00.000000  \n",
       "2     2018-01-01 00:00:00.000000  \n",
       "3     2018-08-01 00:00:00.000000  \n",
       "4     2017-04-01 00:00:00.000000  \n",
       "...                          ...  \n",
       "1273  2017-11-01 00:00:00.000000  \n",
       "1274  2018-01-01 00:00:00.000000  \n",
       "1275  2017-08-01 00:00:00.000000  \n",
       "1276  2018-03-01 00:00:00.000000  \n",
       "1277  2018-01-01 00:00:00.000000  \n",
       "\n",
       "[1278 rows x 3 columns]"
      ],
      "text/html": [
       "<div>\n",
       "<style scoped>\n",
       "    .dataframe tbody tr th:only-of-type {\n",
       "        vertical-align: middle;\n",
       "    }\n",
       "\n",
       "    .dataframe tbody tr th {\n",
       "        vertical-align: top;\n",
       "    }\n",
       "\n",
       "    .dataframe thead th {\n",
       "        text-align: right;\n",
       "    }\n",
       "</style>\n",
       "<table border=\"1\" class=\"dataframe\">\n",
       "  <thead>\n",
       "    <tr style=\"text-align: right;\">\n",
       "      <th></th>\n",
       "      <th>cust_id</th>\n",
       "      <th>different_sellers_count</th>\n",
       "      <th>purchase_date</th>\n",
       "    </tr>\n",
       "  </thead>\n",
       "  <tbody>\n",
       "    <tr>\n",
       "      <th>0</th>\n",
       "      <td>6e9fcf097dd6735e0b0462052b83e936</td>\n",
       "      <td>2</td>\n",
       "      <td>2017-08-01 00:00:00.000000</td>\n",
       "    </tr>\n",
       "    <tr>\n",
       "      <th>1</th>\n",
       "      <td>3563b65918969aa4770325856ec0c256</td>\n",
       "      <td>2</td>\n",
       "      <td>2018-04-01 00:00:00.000000</td>\n",
       "    </tr>\n",
       "    <tr>\n",
       "      <th>2</th>\n",
       "      <td>0b6c2ee27dbe0bcbffd424f2ddedd222</td>\n",
       "      <td>2</td>\n",
       "      <td>2018-01-01 00:00:00.000000</td>\n",
       "    </tr>\n",
       "    <tr>\n",
       "      <th>3</th>\n",
       "      <td>72a366446dd3abfc90c598896714d85c</td>\n",
       "      <td>2</td>\n",
       "      <td>2018-08-01 00:00:00.000000</td>\n",
       "    </tr>\n",
       "    <tr>\n",
       "      <th>4</th>\n",
       "      <td>0f4f8f1c93fa4e87b000dde5ce03ffdd</td>\n",
       "      <td>2</td>\n",
       "      <td>2017-04-01 00:00:00.000000</td>\n",
       "    </tr>\n",
       "    <tr>\n",
       "      <th>...</th>\n",
       "      <td>...</td>\n",
       "      <td>...</td>\n",
       "      <td>...</td>\n",
       "    </tr>\n",
       "    <tr>\n",
       "      <th>1273</th>\n",
       "      <td>1173a4bd917d4e1a64917dd9851ccea9</td>\n",
       "      <td>2</td>\n",
       "      <td>2017-11-01 00:00:00.000000</td>\n",
       "    </tr>\n",
       "    <tr>\n",
       "      <th>1274</th>\n",
       "      <td>66c004ff369bf0244761de86fd2c687c</td>\n",
       "      <td>2</td>\n",
       "      <td>2018-01-01 00:00:00.000000</td>\n",
       "    </tr>\n",
       "    <tr>\n",
       "      <th>1275</th>\n",
       "      <td>99591752fa0fde84c1d12934abf94ca1</td>\n",
       "      <td>2</td>\n",
       "      <td>2017-08-01 00:00:00.000000</td>\n",
       "    </tr>\n",
       "    <tr>\n",
       "      <th>1276</th>\n",
       "      <td>b7ae8ccf4db05cfdefe709e22ccce819</td>\n",
       "      <td>2</td>\n",
       "      <td>2018-03-01 00:00:00.000000</td>\n",
       "    </tr>\n",
       "    <tr>\n",
       "      <th>1277</th>\n",
       "      <td>11ec4bc0610184925acab62c1b0cd593</td>\n",
       "      <td>2</td>\n",
       "      <td>2018-01-01 00:00:00.000000</td>\n",
       "    </tr>\n",
       "  </tbody>\n",
       "</table>\n",
       "<p>1278 rows × 3 columns</p>\n",
       "</div>"
      ]
     },
     "execution_count": 9,
     "metadata": {},
     "output_type": "execute_result"
    }
   ],
   "execution_count": 9
  },
  {
   "metadata": {
    "SqlCellData": {
     "data_source_name": "@www.googleapis.com/bigquery/v2",
     "variableName$1": "df_sql10"
    },
    "ExecuteTime": {
     "end_time": "2024-04-24T13:07:05.199518Z",
     "start_time": "2024-04-24T13:07:03.991603Z"
    }
   },
   "cell_type": "code",
   "source": [
    "%%sql\n",
    "# Seller presense for top-performing product categories\n",
    "SELECT\n",
    "        string_field_1 AS product_category_name,\n",
    "        COUNT(items.seller_id) as sellers\n",
    "    FROM\n",
    "        my-project-trial-388315.olist_kaggle.items items\n",
    "            INNER JOIN\n",
    "        my-project-trial-388315.olist_kaggle.products products\n",
    "        ON\n",
    "            items.product_id = products.product_id\n",
    "            INNER JOIN my-project-trial-388315.olist_kaggle.product_category_name_translation translations\n",
    "    ON products.product_category_name = translations.string_field_0\n",
    "    GROUP BY product_category_name\n",
    "    ORDER BY 2 DESC\n",
    "    LIMIT 16"
   ],
   "id": "93ac056f34180f92",
   "outputs": [
    {
     "data": {
      "text/plain": [
       "    product_category_name  sellers\n",
       "0          bed_bath_table    11115\n",
       "1           health_beauty     9670\n",
       "2          sports_leisure     8641\n",
       "3         furniture_decor     8334\n",
       "4   computers_accessories     7827\n",
       "5              housewares     6964\n",
       "6           watches_gifts     5991\n",
       "7               telephony     4545\n",
       "8            garden_tools     4347\n",
       "9                    auto     4235\n",
       "10                   toys     4117\n",
       "11             cool_stuff     3796\n",
       "12              perfumery     3419\n",
       "13                   baby     3065\n",
       "14            electronics     2767\n",
       "15             stationery     2517"
      ],
      "text/html": [
       "<div>\n",
       "<style scoped>\n",
       "    .dataframe tbody tr th:only-of-type {\n",
       "        vertical-align: middle;\n",
       "    }\n",
       "\n",
       "    .dataframe tbody tr th {\n",
       "        vertical-align: top;\n",
       "    }\n",
       "\n",
       "    .dataframe thead th {\n",
       "        text-align: right;\n",
       "    }\n",
       "</style>\n",
       "<table border=\"1\" class=\"dataframe\">\n",
       "  <thead>\n",
       "    <tr style=\"text-align: right;\">\n",
       "      <th></th>\n",
       "      <th>product_category_name</th>\n",
       "      <th>sellers</th>\n",
       "    </tr>\n",
       "  </thead>\n",
       "  <tbody>\n",
       "    <tr>\n",
       "      <th>0</th>\n",
       "      <td>bed_bath_table</td>\n",
       "      <td>11115</td>\n",
       "    </tr>\n",
       "    <tr>\n",
       "      <th>1</th>\n",
       "      <td>health_beauty</td>\n",
       "      <td>9670</td>\n",
       "    </tr>\n",
       "    <tr>\n",
       "      <th>2</th>\n",
       "      <td>sports_leisure</td>\n",
       "      <td>8641</td>\n",
       "    </tr>\n",
       "    <tr>\n",
       "      <th>3</th>\n",
       "      <td>furniture_decor</td>\n",
       "      <td>8334</td>\n",
       "    </tr>\n",
       "    <tr>\n",
       "      <th>4</th>\n",
       "      <td>computers_accessories</td>\n",
       "      <td>7827</td>\n",
       "    </tr>\n",
       "    <tr>\n",
       "      <th>5</th>\n",
       "      <td>housewares</td>\n",
       "      <td>6964</td>\n",
       "    </tr>\n",
       "    <tr>\n",
       "      <th>6</th>\n",
       "      <td>watches_gifts</td>\n",
       "      <td>5991</td>\n",
       "    </tr>\n",
       "    <tr>\n",
       "      <th>7</th>\n",
       "      <td>telephony</td>\n",
       "      <td>4545</td>\n",
       "    </tr>\n",
       "    <tr>\n",
       "      <th>8</th>\n",
       "      <td>garden_tools</td>\n",
       "      <td>4347</td>\n",
       "    </tr>\n",
       "    <tr>\n",
       "      <th>9</th>\n",
       "      <td>auto</td>\n",
       "      <td>4235</td>\n",
       "    </tr>\n",
       "    <tr>\n",
       "      <th>10</th>\n",
       "      <td>toys</td>\n",
       "      <td>4117</td>\n",
       "    </tr>\n",
       "    <tr>\n",
       "      <th>11</th>\n",
       "      <td>cool_stuff</td>\n",
       "      <td>3796</td>\n",
       "    </tr>\n",
       "    <tr>\n",
       "      <th>12</th>\n",
       "      <td>perfumery</td>\n",
       "      <td>3419</td>\n",
       "    </tr>\n",
       "    <tr>\n",
       "      <th>13</th>\n",
       "      <td>baby</td>\n",
       "      <td>3065</td>\n",
       "    </tr>\n",
       "    <tr>\n",
       "      <th>14</th>\n",
       "      <td>electronics</td>\n",
       "      <td>2767</td>\n",
       "    </tr>\n",
       "    <tr>\n",
       "      <th>15</th>\n",
       "      <td>stationery</td>\n",
       "      <td>2517</td>\n",
       "    </tr>\n",
       "  </tbody>\n",
       "</table>\n",
       "</div>"
      ]
     },
     "execution_count": 19,
     "metadata": {},
     "output_type": "execute_result"
    }
   ],
   "execution_count": 19
  },
  {
   "metadata": {
    "ExecuteTime": {
     "end_time": "2024-04-24T14:35:36.548261Z",
     "start_time": "2024-04-24T14:35:36.310134Z"
    }
   },
   "cell_type": "code",
   "source": [
    "plt.figure(figsize=(12, 8))\n",
    "sns.barplot(x='sellers', y='product_category_name', data=df_sql10, palette='viridis')\n",
    "plt.title('Number of Sellers per Product Category')\n",
    "plt.xlabel('Number of Sellers')\n",
    "plt.ylabel('Product Category Name')\n",
    "plt.grid(axis='x')\n",
    "plt.tight_layout()\n",
    "plt.show()"
   ],
   "id": "22d04ccc5514a3f4",
   "outputs": [
    {
     "data": {
      "text/plain": [
       "<Figure size 1200x800 with 1 Axes>"
      ],
      "image/png": "[encoded data removed]"
     },
     "metadata": {},
     "output_type": "display_data"
    }
   ],
   "execution_count": 24
  },
  {
   "metadata": {
    "SqlCellData": {
     "data_source_name": "@www.googleapis.com/bigquery/v2",
     "variableName$1": "df_sql11"
    },
    "ExecuteTime": {
     "end_time": "2024-04-24T13:32:36.206283Z",
     "start_time": "2024-04-24T13:32:35.070663Z"
    }
   },
   "cell_type": "code",
   "source": [
    "%%sql\n",
    "# Seller presense for worst-performing product categories\n",
    "SELECT\n",
    "        string_field_1 AS product_category_name,\n",
    "        COUNT(items.seller_id) as sellers\n",
    "    FROM\n",
    "        my-project-trial-388315.olist_kaggle.items items\n",
    "            INNER JOIN\n",
    "        my-project-trial-388315.olist_kaggle.products products\n",
    "        ON\n",
    "            items.product_id = products.product_id\n",
    "            INNER JOIN my-project-trial-388315.olist_kaggle.product_category_name_translation translations\n",
    "    ON products.product_category_name = translations.string_field_0\n",
    "    GROUP BY product_category_name\n",
    "    ORDER BY 2 \n",
    "    LIMIT 16"
   ],
   "id": "33ec19de592200b",
   "outputs": [
    {
     "data": {
      "text/plain": [
       "                product_category_name  sellers\n",
       "0               security_and_services        2\n",
       "1           fashion_childrens_clothes        8\n",
       "2                          la_cuisine       14\n",
       "3                   cds_dvds_musicals       14\n",
       "4               arts_and_craftmanship       24\n",
       "5                       fashion_sport       30\n",
       "6                      home_comfort_2       30\n",
       "7                             flowers       33\n",
       "8                               music       38\n",
       "9   furniture_mattress_and_upholstery       38\n",
       "10                diapers_and_hygiene       39\n",
       "11                     party_supplies       43\n",
       "12             fashio_female_clothing       48\n",
       "13                     books_imported       60\n",
       "14                       dvds_blu_ray       64\n",
       "15                         cine_photo       72"
      ],
      "text/html": [
       "<div>\n",
       "<style scoped>\n",
       "    .dataframe tbody tr th:only-of-type {\n",
       "        vertical-align: middle;\n",
       "    }\n",
       "\n",
       "    .dataframe tbody tr th {\n",
       "        vertical-align: top;\n",
       "    }\n",
       "\n",
       "    .dataframe thead th {\n",
       "        text-align: right;\n",
       "    }\n",
       "</style>\n",
       "<table border=\"1\" class=\"dataframe\">\n",
       "  <thead>\n",
       "    <tr style=\"text-align: right;\">\n",
       "      <th></th>\n",
       "      <th>product_category_name</th>\n",
       "      <th>sellers</th>\n",
       "    </tr>\n",
       "  </thead>\n",
       "  <tbody>\n",
       "    <tr>\n",
       "      <th>0</th>\n",
       "      <td>security_and_services</td>\n",
       "      <td>2</td>\n",
       "    </tr>\n",
       "    <tr>\n",
       "      <th>1</th>\n",
       "      <td>fashion_childrens_clothes</td>\n",
       "      <td>8</td>\n",
       "    </tr>\n",
       "    <tr>\n",
       "      <th>2</th>\n",
       "      <td>la_cuisine</td>\n",
       "      <td>14</td>\n",
       "    </tr>\n",
       "    <tr>\n",
       "      <th>3</th>\n",
       "      <td>cds_dvds_musicals</td>\n",
       "      <td>14</td>\n",
       "    </tr>\n",
       "    <tr>\n",
       "      <th>4</th>\n",
       "      <td>arts_and_craftmanship</td>\n",
       "      <td>24</td>\n",
       "    </tr>\n",
       "    <tr>\n",
       "      <th>5</th>\n",
       "      <td>fashion_sport</td>\n",
       "      <td>30</td>\n",
       "    </tr>\n",
       "    <tr>\n",
       "      <th>6</th>\n",
       "      <td>home_comfort_2</td>\n",
       "      <td>30</td>\n",
       "    </tr>\n",
       "    <tr>\n",
       "      <th>7</th>\n",
       "      <td>flowers</td>\n",
       "      <td>33</td>\n",
       "    </tr>\n",
       "    <tr>\n",
       "      <th>8</th>\n",
       "      <td>music</td>\n",
       "      <td>38</td>\n",
       "    </tr>\n",
       "    <tr>\n",
       "      <th>9</th>\n",
       "      <td>furniture_mattress_and_upholstery</td>\n",
       "      <td>38</td>\n",
       "    </tr>\n",
       "    <tr>\n",
       "      <th>10</th>\n",
       "      <td>diapers_and_hygiene</td>\n",
       "      <td>39</td>\n",
       "    </tr>\n",
       "    <tr>\n",
       "      <th>11</th>\n",
       "      <td>party_supplies</td>\n",
       "      <td>43</td>\n",
       "    </tr>\n",
       "    <tr>\n",
       "      <th>12</th>\n",
       "      <td>fashio_female_clothing</td>\n",
       "      <td>48</td>\n",
       "    </tr>\n",
       "    <tr>\n",
       "      <th>13</th>\n",
       "      <td>books_imported</td>\n",
       "      <td>60</td>\n",
       "    </tr>\n",
       "    <tr>\n",
       "      <th>14</th>\n",
       "      <td>dvds_blu_ray</td>\n",
       "      <td>64</td>\n",
       "    </tr>\n",
       "    <tr>\n",
       "      <th>15</th>\n",
       "      <td>cine_photo</td>\n",
       "      <td>72</td>\n",
       "    </tr>\n",
       "  </tbody>\n",
       "</table>\n",
       "</div>"
      ]
     },
     "execution_count": 20,
     "metadata": {},
     "output_type": "execute_result"
    }
   ],
   "execution_count": 20
  },
  {
   "metadata": {},
   "cell_type": "code",
   "outputs": [],
   "execution_count": null,
   "source": [
    "#CONCLUSIONS\n",
    "# We know that SouthEast is the richest region in Brazil and with 71% of revenue generated and 76% of sellers concentrated there, this is also reflected in our marketplace dynamic. North being the poorest and least inhabited region brings just 0.1% in terms of revenue.\n",
    "#When it comes to order processing, overall dynamic is healthy, \"Instant\"(= under 1 hour) TTA being the biggest category of sellers.\n",
    "\n",
    "\n",
    "# percentage for non-monogamous tra"
   ],
   "id": "ac7cf925a39eb01"
  }
 ],
 "metadata": {
  "kernelspec": {
   "display_name": "Python 3",
   "language": "python",
   "name": "python3"
  },
  "language_info": {
   "codemirror_mode": {
    "name": "ipython",
    "version": 2
   },
   "file_extension": ".py",
   "mimetype": "text/x-python",
   "name": "python",
   "nbconvert_exporter": "python",
   "pygments_lexer": "ipython2",
   "version": "2.7.6"
  }
 },
 "nbformat": 4,
 "nbformat_minor": 5
}
